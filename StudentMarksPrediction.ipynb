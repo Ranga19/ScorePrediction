{
 "cells": [
  {
   "cell_type": "markdown",
   "id": "809b7d36",
   "metadata": {},
   "source": [
    "Initailly, we will implement gradient descent algorithm and find parameters w, b.\n",
    "Then using sklearn linear regression model we will split data into test data and train data. After train_data is trained,\n",
    "paramters regressor.coef_ (w) and regressor.intercept_ (b) are determined. Using these parameters, we will predict outputs\n",
    "for test data."
   ]
  },
  {
   "cell_type": "code",
   "execution_count": 107,
   "id": "e9cd5f55",
   "metadata": {},
   "outputs": [],
   "source": [
    "import pandas as pd\n",
    "from matplotlib import pyplot as plt"
   ]
  },
  {
   "cell_type": "code",
   "execution_count": 108,
   "id": "9f4d7cdc",
   "metadata": {},
   "outputs": [
    {
     "name": "stdout",
     "output_type": "stream",
     "text": [
      "     study_hours  student_marks\n",
      "0           6.83          78.50\n",
      "1           6.56          76.74\n",
      "2           6.70          78.68\n",
      "3           5.67          71.82\n",
      "4           8.67          84.19\n",
      "..           ...            ...\n",
      "195         7.53          81.67\n",
      "196         8.56          84.68\n",
      "197         8.94          86.75\n",
      "198         6.60          78.05\n",
      "199         8.35          83.50\n",
      "\n",
      "[200 rows x 2 columns]\n"
     ]
    }
   ],
   "source": [
    "data = pd.read_csv(r\"C:\\Users\\Ranganath\\PythonPractice\\student_info.csv\")\n",
    "print(data)"
   ]
  },
  {
   "cell_type": "code",
   "execution_count": 41,
   "id": "2d489236",
   "metadata": {
    "scrolled": true
   },
   "outputs": [
    {
     "data": {
      "text/plain": [
       "<matplotlib.collections.PathCollection at 0x1f2f7adba60>"
      ]
     },
     "execution_count": 41,
     "metadata": {},
     "output_type": "execute_result"
    },
    {
     "data": {
      "image/png": "[encoded data removed]",
      "text/plain": [
       "<Figure size 432x288 with 1 Axes>"
      ]
     },
     "metadata": {
      "needs_background": "light"
     },
     "output_type": "display_data"
    }
   ],
   "source": [
    "plt.scatter(data[\"study_hours\"],data[\"student_marks\"])"
   ]
  },
  {
   "cell_type": "code",
   "execution_count": 90,
   "id": "ff005164",
   "metadata": {},
   "outputs": [
    {
     "name": "stdout",
     "output_type": "stream",
     "text": [
      "[5.0404516] [42.41907348]\n"
     ]
    }
   ],
   "source": [
    "'''First we will try to build the model to fit the linear curve to the plot by finding the parameters w,b \n",
    "    using gradient descent learning alogorithm, then we will use libraries to build the model'''\n",
    "\n",
    "# model f(x) = wx + b\n",
    "\n",
    "x = data.iloc[:, :-1].values\n",
    "y = data.iloc[:, 1].values\n",
    "\n",
    "b = 0.0\n",
    "w = 0.0\n",
    "learning_rate = 0.03\n",
    "\n",
    "def gradient_descent(x, y, w, b, learning_rate):\n",
    "    dldw = 0.0 \n",
    "    dldb = 0.0\n",
    "    for i, j in zip(x, y):\n",
    "        dldw = dldw + (w * i + b - j) * i\n",
    "        dldb = dldb + (w * i + b - j)\n",
    "    w = w - learning_rate / len(x) * dldw\n",
    "    b = b - learning_rate / len(x) * dldb\n",
    "    return w, b\n",
    "\n",
    "for epoch in range(2000):\n",
    "    w, b = gradient_descent(x, y, w, b, learning_rate)\n",
    "\n",
    "    \n",
    "print(w, b)"
   ]
  },
  {
   "cell_type": "code",
   "execution_count": 102,
   "id": "9fe2c1f7",
   "metadata": {
    "scrolled": false
   },
   "outputs": [
    {
     "data": {
      "text/plain": [
       "<matplotlib.collections.PathCollection at 0x1f2f7a2f5e0>"
      ]
     },
     "execution_count": 102,
     "metadata": {},
     "output_type": "execute_result"
    },
    {
     "data": {
      "image/png": "[encoded data removed]",
      "text/plain": [
       "<Figure size 432x288 with 1 Axes>"
      ]
     },
     "metadata": {
      "needs_background": "light"
     },
     "output_type": "display_data"
    }
   ],
   "source": [
    "# plotting the curve for each x in w*x+b\n",
    "\n",
    "t1 = []\n",
    "t2 = []\n",
    "for i in range(len(x)):\n",
    "    t1.append(x[i])\n",
    "    t2.append(w * x[i] + b)\n",
    "plt.scatter(t1,t2)"
   ]
  },
  {
   "cell_type": "code",
   "execution_count": 103,
   "id": "86253e0c",
   "metadata": {},
   "outputs": [
    {
     "name": "stdout",
     "output_type": "stream",
     "text": [
      "Enter number of hours studied:5.28\n",
      "Scores is: [69.03265791]\n"
     ]
    }
   ],
   "source": [
    "print(\"Scores is:\", w * float(input(\"Enter number of hours studied:\")) + b)"
   ]
  },
  {
   "cell_type": "code",
   "execution_count": 104,
   "id": "20d3877e",
   "metadata": {},
   "outputs": [],
   "source": [
    "'''Now we will split data into train and test'''\n",
    "\n",
    "from sklearn.model_selection import train_test_split\n",
    "\n",
    "x = x.reshape(-1, 1)\n",
    "y = y.reshape(-1, 1)\n",
    "X_train, X_test, y_train, y_test = train_test_split(x, y, \n",
    "                            test_size=0.3, random_state=0)"
   ]
  },
  {
   "cell_type": "code",
   "execution_count": 105,
   "id": "5b0ecdf7",
   "metadata": {},
   "outputs": [
    {
     "data": {
      "text/plain": [
       "LinearRegression()"
      ]
     },
     "execution_count": 105,
     "metadata": {},
     "output_type": "execute_result"
    }
   ],
   "source": [
    "'''Training the algorithm'''\n",
    "\n",
    "from sklearn.linear_model import LinearRegression  \n",
    "regressor = LinearRegression() \n",
    "regressor.fit(X_train, y_train)"
   ]
  },
  {
   "cell_type": "code",
   "execution_count": 109,
   "id": "b8c7a597",
   "metadata": {},
   "outputs": [
    {
     "name": "stdout",
     "output_type": "stream",
     "text": [
      "x_test  y_test  pred-builtin  pred2-gradientdescent\n",
      "[8.41] [82.5] [83.48815991] [84.8092714]\n",
      "[5.19] [71.18] [70.88954141] [68.57901727]\n",
      "[5.72] [73.25] [72.96322706] [71.25045661]\n",
      "[8.88] [83.64] [85.3270887] [87.17828365]\n",
      "[5.79] [73.64] [73.23711007] [71.60328822]\n",
      "[8.66] [86.99] [84.46631353] [86.0693843]\n",
      "[7.55] [81.18] [80.12331149] [80.47448303]\n",
      "[7.99] [82.75] [81.84486185] [82.69228173]\n",
      "[7.75] [79.5] [80.90583438] [81.48257335]\n",
      "[8.08] [81.7] [82.19699715] [83.14592238]\n",
      "[7.26] [79.41] [78.98865331] [79.01275207]\n",
      "[8.75] [85.95] [84.81844882] [86.52302495]\n",
      "[6.97] [77.19] [77.85399512] [77.55102111]\n",
      "[6.93] [78.45] [77.69749054] [77.34940304]\n",
      "[8.34] [84.] [83.2142769] [84.45643979]\n",
      "[8.99] [85.46] [85.75747629] [87.73273333]\n",
      "[8.78] [84.35] [84.93582726] [86.6742385]\n",
      "[5.64] [73.19] [72.65021791] [70.84722048]\n",
      "[7.19] [78.21] [78.71477029] [78.65992046]\n",
      "[7.31] [77.59] [79.18428403] [79.26477465]\n",
      "[8.61] [83.87] [84.2706828] [85.81736172]\n",
      "[8.95] [85.15] [85.60097171] [87.53111527]\n",
      "[6.18] [72.96] [74.76302971] [73.56906435]\n",
      "[7.86] [80.72] [81.33622197] [82.03702303]\n",
      "[5.49] [73.61] [72.06332574] [70.09115274]\n",
      "[7.62] [79.53] [80.3971945] [80.82731464]\n",
      "[7.26] [78.17] [78.98865331] [79.01275207]\n",
      "[8.05] [79.63] [82.07961872] [82.99470883]\n",
      "[7.] [76.83] [77.97137355] [77.70223465]\n",
      "[8.09] [82.38] [82.23612329] [83.19632689]\n",
      "[6.36] [76.04] [75.46730031] [74.47634563]\n",
      "[8.69] [85.48] [84.58369196] [86.22059785]\n",
      "[5.39] [71.87] [71.6720643] [69.58710758]\n",
      "[6.37] [75.04] [75.50642645] [74.52675015]\n",
      "[5.05] [70.67] [70.34177539] [67.87335404]\n",
      "[7.26] [79.87] [78.98865331] [79.01275207]\n",
      "[6.33] [74.49] [75.34992187] [74.32513208]\n",
      "[8.67] [84.19] [84.50543967] [86.11978882]\n",
      "[6.01] [75.36] [74.09788525] [72.71218757]\n",
      "[5.34] [72.1] [71.47643358] [69.335085]\n",
      "[6.51] [78.39] [76.05419247] [75.23241337]\n",
      "[7.86] [81.25] [81.33622197] [82.03702303]\n",
      "[6.51] [74.75] [76.05419247] [75.23241337]\n",
      "[7.95] [80.86] [81.68835727] [82.49066367]\n",
      "[7.95] [82.68] [81.68835727] [82.49066367]\n",
      "[7.72] [80.43] [80.78845595] [81.3313598]\n",
      "[5.19] [70.66] [70.88954141] [68.57901727]\n",
      "[6.04] [72.33] [74.21526369] [72.86340112]\n",
      "[5.69] [73.61] [72.84584863] [71.09924306]\n",
      "[6.51] [75.52] [76.05419247] [75.23241337]\n",
      "[5.11] [71.79] [70.57653225] [68.17578114]\n",
      "[8.69] [83.57] [84.58369196] [86.22059785]\n",
      "[5.22] [71.5] [71.00691984] [68.73023081]\n",
      "[5.2] [68.57] [70.92866755] [68.62942178]\n",
      "[8.97] [86.12] [85.679224] [87.6319243]\n",
      "[5.45] [70.96] [71.90682116] [69.88953468]\n",
      "[8.13] [82.27] [82.39262787] [83.39794496]\n",
      "[7.7] [80.81] [80.71020366] [81.23055077]\n",
      "[5.28] [70.27] [71.24167671] [69.03265791]\n",
      "[5.75] [75.03] [73.0806055] [71.40167016]\n"
     ]
    }
   ],
   "source": [
    "'''Making predictions for \"X_test\" test data'''\n",
    "\n",
    "y_pred = regressor.predict(X_test)\n",
    "\n",
    "print(\"x_test  y_test  pred-builtin  pred2-gradientdescent\")\n",
    "for i in range(len(X_test)):\n",
    "    print(X_test[i], y_test[i], y_pred[i], w * X_test[i] + b)"
   ]
  },
  {
   "cell_type": "code",
   "execution_count": null,
   "id": "3653e4d9",
   "metadata": {},
   "outputs": [],
   "source": []
  }
 ],
 "metadata": {
  "kernelspec": {
   "display_name": "Python 3 (ipykernel)",
   "language": "python",
   "name": "python3"
  },
  "language_info": {
   "codemirror_mode": {
    "name": "ipython",
    "version": 3
   },
   "file_extension": ".py",
   "mimetype": "text/x-python",
   "name": "python",
   "nbconvert_exporter": "python",
   "pygments_lexer": "ipython3",
   "version": "3.9.12"
  }
 },
 "nbformat": 4,
 "nbformat_minor": 5
}
